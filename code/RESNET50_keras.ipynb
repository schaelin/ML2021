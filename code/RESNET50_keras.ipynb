{
  "nbformat": 4,
  "nbformat_minor": 0,
  "metadata": {
    "colab": {
      "name": "RESNET50_keras",
      "provenance": [],
      "collapsed_sections": []
    },
    "kernelspec": {
      "display_name": "Python 3",
      "name": "python3"
    },
    "language_info": {
      "name": "python"
    },
    "accelerator": "GPU"
  },
  "cells": [
    {
      "cell_type": "code",
      "metadata": {
        "colab": {
          "base_uri": "https://localhost:8080/"
        },
        "id": "AEO5YVXUsk8w",
        "outputId": "c629bf49-3800-464e-ed33-b5453a29dab6"
      },
      "source": [
        "from google.colab import drive\n",
        "drive.mount('/content/drive')"
      ],
      "execution_count": null,
      "outputs": [
        {
          "output_type": "stream",
          "name": "stdout",
          "text": [
            "Drive already mounted at /content/drive; to attempt to forcibly remount, call drive.mount(\"/content/drive\", force_remount=True).\n"
          ]
        }
      ]
    },
    {
      "cell_type": "code",
      "metadata": {
        "id": "ZLm6n6AtVfni"
      },
      "source": [
        "import tensorflow as tf\n",
        "from tensorflow.keras.layers import Dense, Conv2D, MaxPooling2D, Flatten, Dropout\n",
        "from tensorflow.keras.models import Sequential\n",
        "from tensorflow.keras.callbacks import ModelCheckpoint\n",
        "from tensorflow.keras.applications import VGG19\n",
        "\n",
        "from IPython.display import Image\n",
        "import numpy as np\n",
        "import matplotlib.pyplot as plt\n",
        "from keras import models, layers\n",
        "\n",
        "%matplotlib inline"
      ],
      "execution_count": null,
      "outputs": []
    },
    {
      "cell_type": "code",
      "metadata": {
        "id": "8Rsf_kmDlCJ2"
      },
      "source": [
        "from keras.preprocessing.image import ImageDataGenerator"
      ],
      "execution_count": null,
      "outputs": []
    },
    {
      "cell_type": "code",
      "metadata": {
        "id": "kmmEUF2JlC-v"
      },
      "source": [
        "data_generator = ImageDataGenerator(rescale=1./255)"
      ],
      "execution_count": null,
      "outputs": []
    },
    {
      "cell_type": "code",
      "metadata": {
        "colab": {
          "base_uri": "https://localhost:8080/"
        },
        "id": "eTapl_XllCMR",
        "outputId": "41e14a5c-f5e1-44f9-88b2-df3ba007ea77"
      },
      "source": [
        "train_generator = data_generator.flow_from_directory(\n",
        "    \"/content/drive/MyDrive/Colab Notebooks/ml2021/data03/train\",\n",
        "    target_size=(224,224),\n",
        "    batch_size = 8,\n",
        "    class_mode='categorical')"
      ],
      "execution_count": null,
      "outputs": [
        {
          "output_type": "stream",
          "name": "stdout",
          "text": [
            "Found 988 images belonging to 3 classes.\n"
          ]
        }
      ]
    },
    {
      "cell_type": "code",
      "metadata": {
        "colab": {
          "base_uri": "https://localhost:8080/"
        },
        "id": "NdLfDy2ClCOU",
        "outputId": "6a70e1ec-582f-4431-a2a5-9972c1cbf395"
      },
      "source": [
        "valid_generator = data_generator.flow_from_directory(\n",
        "    \"/content/drive/MyDrive/Colab Notebooks/ml2021/data03/valid\",\n",
        "    target_size=(224,224),\n",
        "    batch_size = 8,\n",
        "    class_mode='categorical')"
      ],
      "execution_count": null,
      "outputs": [
        {
          "output_type": "stream",
          "name": "stdout",
          "text": [
            "Found 246 images belonging to 3 classes.\n"
          ]
        }
      ]
    },
    {
      "cell_type": "code",
      "metadata": {
        "colab": {
          "base_uri": "https://localhost:8080/"
        },
        "id": "P-f8U3w9lCQ7",
        "outputId": "2cd8a210-46de-4444-cc11-825bc3dbf452"
      },
      "source": [
        "test_generator = data_generator.flow_from_directory(\n",
        "    \"/content/drive/MyDrive/Colab Notebooks/ml2021/data03/test\",\n",
        "    target_size=(224,224),\n",
        "    batch_size = 8,\n",
        "    class_mode='categorical')"
      ],
      "execution_count": null,
      "outputs": [
        {
          "output_type": "stream",
          "name": "stdout",
          "text": [
            "Found 298 images belonging to 3 classes.\n"
          ]
        }
      ]
    },
    {
      "cell_type": "code",
      "metadata": {
        "id": "we9Kb3m5lCTH"
      },
      "source": [
        "model = tf.keras.applications.ResNet50(\n",
        "    include_top=True,\n",
        "    weights=None,\n",
        "    input_tensor=None,\n",
        "    input_shape=None,\n",
        "    pooling=None,\n",
        "    classes=3\n",
        ")"
      ],
      "execution_count": null,
      "outputs": []
    },
    {
      "cell_type": "code",
      "metadata": {
        "id": "rt1olYtelCVp"
      },
      "source": [
        "model.compile(loss='categorical_crossentropy', optimizer='adam', metrics=['accuracy'])"
      ],
      "execution_count": null,
      "outputs": []
    },
    {
      "cell_type": "code",
      "metadata": {
        "colab": {
          "base_uri": "https://localhost:8080/"
        },
        "id": "gK1Fn1QhlCYA",
        "outputId": "68c5d738-ff2a-4a55-a9b6-ef0cc86b289a"
      },
      "source": [
        "history = model.fit_generator(\n",
        "            train_generator,\n",
        "            steps_per_epoch=124,\n",
        "            epochs=60,\n",
        "            validation_data=valid_generator,\n",
        "            validation_steps=30)"
      ],
      "execution_count": null,
      "outputs": [
        {
          "output_type": "stream",
          "name": "stderr",
          "text": [
            "/usr/local/lib/python3.7/dist-packages/ipykernel_launcher.py:6: UserWarning: `Model.fit_generator` is deprecated and will be removed in a future version. Please use `Model.fit`, which supports generators.\n",
            "  \n"
          ]
        },
        {
          "output_type": "stream",
          "name": "stdout",
          "text": [
            "Epoch 1/60\n",
            "124/124 [==============================] - 1355s 11s/step - loss: 1.2232 - accuracy: 0.5830 - val_loss: 3.0656 - val_accuracy: 0.2333\n",
            "Epoch 2/60\n",
            "124/124 [==============================] - 206s 2s/step - loss: 0.8453 - accuracy: 0.6518 - val_loss: 1.6678 - val_accuracy: 0.2333\n",
            "Epoch 3/60\n",
            "124/124 [==============================] - 204s 2s/step - loss: 0.7682 - accuracy: 0.6731 - val_loss: 1.5950 - val_accuracy: 0.3083\n",
            "Epoch 4/60\n",
            "124/124 [==============================] - 204s 2s/step - loss: 0.7776 - accuracy: 0.6953 - val_loss: 2.6324 - val_accuracy: 0.3167\n",
            "Epoch 5/60\n",
            "124/124 [==============================] - 204s 2s/step - loss: 0.7308 - accuracy: 0.6923 - val_loss: 0.9201 - val_accuracy: 0.6583\n",
            "Epoch 6/60\n",
            "124/124 [==============================] - 203s 2s/step - loss: 0.6964 - accuracy: 0.6852 - val_loss: 6.8969 - val_accuracy: 0.5208\n",
            "Epoch 7/60\n",
            "124/124 [==============================] - 203s 2s/step - loss: 0.7396 - accuracy: 0.6923 - val_loss: 5.2515 - val_accuracy: 0.5125\n",
            "Epoch 8/60\n",
            "124/124 [==============================] - 204s 2s/step - loss: 0.6884 - accuracy: 0.7156 - val_loss: 1.0485 - val_accuracy: 0.5458\n",
            "Epoch 9/60\n",
            "124/124 [==============================] - 204s 2s/step - loss: 0.6509 - accuracy: 0.7389 - val_loss: 3.0646 - val_accuracy: 0.5125\n",
            "Epoch 10/60\n",
            "124/124 [==============================] - 206s 2s/step - loss: 0.6982 - accuracy: 0.7004 - val_loss: 1.0746 - val_accuracy: 0.5125\n",
            "Epoch 11/60\n",
            "124/124 [==============================] - 204s 2s/step - loss: 0.6655 - accuracy: 0.7166 - val_loss: 2.0878 - val_accuracy: 0.6417\n",
            "Epoch 12/60\n",
            "124/124 [==============================] - 205s 2s/step - loss: 0.6622 - accuracy: 0.7126 - val_loss: 3.3740 - val_accuracy: 0.6000\n",
            "Epoch 13/60\n",
            "124/124 [==============================] - 204s 2s/step - loss: 0.7585 - accuracy: 0.6933 - val_loss: 14.5785 - val_accuracy: 0.2583\n",
            "Epoch 14/60\n",
            "124/124 [==============================] - 205s 2s/step - loss: 0.7752 - accuracy: 0.6781 - val_loss: 1.7551 - val_accuracy: 0.6833\n",
            "Epoch 15/60\n",
            "124/124 [==============================] - 205s 2s/step - loss: 0.7105 - accuracy: 0.6812 - val_loss: 1.1938 - val_accuracy: 0.6000\n",
            "Epoch 16/60\n",
            "124/124 [==============================] - 205s 2s/step - loss: 0.6778 - accuracy: 0.7115 - val_loss: 1.9372 - val_accuracy: 0.6333\n",
            "Epoch 17/60\n",
            "124/124 [==============================] - 205s 2s/step - loss: 0.6809 - accuracy: 0.7176 - val_loss: 1.6955 - val_accuracy: 0.5208\n",
            "Epoch 18/60\n",
            "124/124 [==============================] - 204s 2s/step - loss: 0.6264 - accuracy: 0.7470 - val_loss: 0.9309 - val_accuracy: 0.6333\n",
            "Epoch 19/60\n",
            "124/124 [==============================] - 205s 2s/step - loss: 0.6357 - accuracy: 0.7490 - val_loss: 0.9807 - val_accuracy: 0.4917\n",
            "Epoch 20/60\n",
            "124/124 [==============================] - 204s 2s/step - loss: 0.6173 - accuracy: 0.7439 - val_loss: 1.1806 - val_accuracy: 0.5250\n",
            "Epoch 21/60\n",
            "124/124 [==============================] - 205s 2s/step - loss: 0.6074 - accuracy: 0.7530 - val_loss: 1.0222 - val_accuracy: 0.6750\n",
            "Epoch 22/60\n",
            "124/124 [==============================] - 204s 2s/step - loss: 0.6145 - accuracy: 0.7419 - val_loss: 0.7588 - val_accuracy: 0.6750\n",
            "Epoch 23/60\n",
            "124/124 [==============================] - 202s 2s/step - loss: 0.5842 - accuracy: 0.7571 - val_loss: 1.3019 - val_accuracy: 0.6958\n",
            "Epoch 24/60\n",
            "124/124 [==============================] - 203s 2s/step - loss: 0.5899 - accuracy: 0.7551 - val_loss: 0.6468 - val_accuracy: 0.7167\n",
            "Epoch 25/60\n",
            "124/124 [==============================] - 202s 2s/step - loss: 0.5625 - accuracy: 0.7834 - val_loss: 2.2068 - val_accuracy: 0.5208\n",
            "Epoch 26/60\n",
            "124/124 [==============================] - 202s 2s/step - loss: 0.6427 - accuracy: 0.7439 - val_loss: 1.1830 - val_accuracy: 0.6542\n",
            "Epoch 27/60\n",
            "124/124 [==============================] - 203s 2s/step - loss: 0.5961 - accuracy: 0.7490 - val_loss: 2.6699 - val_accuracy: 0.5292\n",
            "Epoch 28/60\n",
            "124/124 [==============================] - 203s 2s/step - loss: 0.5509 - accuracy: 0.7743 - val_loss: 1.0602 - val_accuracy: 0.6708\n",
            "Epoch 29/60\n",
            "124/124 [==============================] - 202s 2s/step - loss: 0.5407 - accuracy: 0.7763 - val_loss: 1.2787 - val_accuracy: 0.6125\n",
            "Epoch 30/60\n",
            "124/124 [==============================] - 204s 2s/step - loss: 0.5605 - accuracy: 0.7783 - val_loss: 1.0248 - val_accuracy: 0.5958\n",
            "Epoch 31/60\n",
            "124/124 [==============================] - 204s 2s/step - loss: 0.5638 - accuracy: 0.7642 - val_loss: 1.3103 - val_accuracy: 0.6542\n",
            "Epoch 32/60\n",
            "124/124 [==============================] - 204s 2s/step - loss: 0.5474 - accuracy: 0.7702 - val_loss: 1.2713 - val_accuracy: 0.6333\n",
            "Epoch 33/60\n",
            "124/124 [==============================] - 205s 2s/step - loss: 0.5209 - accuracy: 0.7783 - val_loss: 4.9398 - val_accuracy: 0.3375\n",
            "Epoch 34/60\n",
            "124/124 [==============================] - 203s 2s/step - loss: 0.5212 - accuracy: 0.7743 - val_loss: 1.9289 - val_accuracy: 0.5167\n",
            "Epoch 35/60\n",
            "124/124 [==============================] - 204s 2s/step - loss: 0.5337 - accuracy: 0.7763 - val_loss: 0.8296 - val_accuracy: 0.6833\n",
            "Epoch 36/60\n",
            "124/124 [==============================] - 204s 2s/step - loss: 0.5228 - accuracy: 0.7814 - val_loss: 1.5084 - val_accuracy: 0.5375\n",
            "Epoch 37/60\n",
            "124/124 [==============================] - 205s 2s/step - loss: 0.5307 - accuracy: 0.7723 - val_loss: 0.7655 - val_accuracy: 0.7000\n",
            "Epoch 38/60\n",
            "124/124 [==============================] - 204s 2s/step - loss: 0.5088 - accuracy: 0.7814 - val_loss: 1.5945 - val_accuracy: 0.5458\n",
            "Epoch 39/60\n",
            "124/124 [==============================] - 203s 2s/step - loss: 0.4903 - accuracy: 0.7905 - val_loss: 0.9302 - val_accuracy: 0.6500\n",
            "Epoch 40/60\n",
            "124/124 [==============================] - 204s 2s/step - loss: 0.5218 - accuracy: 0.7844 - val_loss: 1.0692 - val_accuracy: 0.6542\n",
            "Epoch 41/60\n",
            "124/124 [==============================] - 203s 2s/step - loss: 0.5175 - accuracy: 0.7935 - val_loss: 1.2835 - val_accuracy: 0.5833\n",
            "Epoch 42/60\n",
            "124/124 [==============================] - 203s 2s/step - loss: 0.5112 - accuracy: 0.7945 - val_loss: 1.8700 - val_accuracy: 0.6250\n",
            "Epoch 43/60\n",
            "124/124 [==============================] - 204s 2s/step - loss: 0.5074 - accuracy: 0.7844 - val_loss: 1.0409 - val_accuracy: 0.5583\n",
            "Epoch 44/60\n",
            "124/124 [==============================] - 204s 2s/step - loss: 0.4988 - accuracy: 0.7834 - val_loss: 1.2350 - val_accuracy: 0.5583\n",
            "Epoch 45/60\n",
            "124/124 [==============================] - 204s 2s/step - loss: 0.4926 - accuracy: 0.7915 - val_loss: 0.6979 - val_accuracy: 0.6792\n",
            "Epoch 46/60\n",
            "124/124 [==============================] - 204s 2s/step - loss: 0.4837 - accuracy: 0.8036 - val_loss: 1.0092 - val_accuracy: 0.5917\n",
            "Epoch 47/60\n",
            "124/124 [==============================] - 204s 2s/step - loss: 0.4974 - accuracy: 0.7915 - val_loss: 2.1719 - val_accuracy: 0.5792\n",
            "Epoch 48/60\n",
            "124/124 [==============================] - 204s 2s/step - loss: 0.4978 - accuracy: 0.7955 - val_loss: 6.2170 - val_accuracy: 0.6833\n",
            "Epoch 49/60\n",
            "124/124 [==============================] - 205s 2s/step - loss: 0.5277 - accuracy: 0.7864 - val_loss: 0.7053 - val_accuracy: 0.6333\n",
            "Epoch 50/60\n",
            "124/124 [==============================] - 204s 2s/step - loss: 0.4973 - accuracy: 0.7955 - val_loss: 6.7861 - val_accuracy: 0.5250\n",
            "Epoch 51/60\n",
            "124/124 [==============================] - 205s 2s/step - loss: 0.4828 - accuracy: 0.8087 - val_loss: 0.8179 - val_accuracy: 0.6125\n",
            "Epoch 52/60\n",
            "124/124 [==============================] - 204s 2s/step - loss: 0.4605 - accuracy: 0.8077 - val_loss: 0.6276 - val_accuracy: 0.6917\n",
            "Epoch 53/60\n",
            "124/124 [==============================] - 205s 2s/step - loss: 0.4887 - accuracy: 0.8006 - val_loss: 2.2422 - val_accuracy: 0.5625\n",
            "Epoch 54/60\n",
            "124/124 [==============================] - 205s 2s/step - loss: 0.4271 - accuracy: 0.8239 - val_loss: 0.8335 - val_accuracy: 0.6167\n",
            "Epoch 55/60\n",
            "124/124 [==============================] - 205s 2s/step - loss: 0.4358 - accuracy: 0.8259 - val_loss: 1.7563 - val_accuracy: 0.4042\n",
            "Epoch 56/60\n",
            "124/124 [==============================] - 204s 2s/step - loss: 0.4504 - accuracy: 0.8198 - val_loss: 2.7799 - val_accuracy: 0.5167\n",
            "Epoch 57/60\n",
            "124/124 [==============================] - 205s 2s/step - loss: 0.5028 - accuracy: 0.7986 - val_loss: 1.7193 - val_accuracy: 0.5292\n",
            "Epoch 58/60\n",
            "124/124 [==============================] - 205s 2s/step - loss: 0.4437 - accuracy: 0.8239 - val_loss: 0.6604 - val_accuracy: 0.7208\n",
            "Epoch 59/60\n",
            "124/124 [==============================] - 206s 2s/step - loss: 0.4471 - accuracy: 0.8036 - val_loss: 1.0280 - val_accuracy: 0.5333\n",
            "Epoch 60/60\n",
            "124/124 [==============================] - 204s 2s/step - loss: 0.4043 - accuracy: 0.8411 - val_loss: 1.6864 - val_accuracy: 0.5292\n"
          ]
        }
      ]
    },
    {
      "cell_type": "code",
      "metadata": {
        "id": "ycw-UcXJlCaK",
        "colab": {
          "base_uri": "https://localhost:8080/",
          "height": 279
        },
        "outputId": "823fc2ff-db3e-43f8-b55f-067f59cda514"
      },
      "source": [
        "import numpy\n",
        "\n",
        "y_vloss = history.history['val_loss']\n",
        "y_loss = history.history['loss']\n",
        "\n",
        "x_len = numpy.arange(len(y_loss))\n",
        "plt.plot(x_len, y_vloss, marker='.', c='red', label=\"Validation-set Loss\")\n",
        "plt.plot(x_len, y_loss, marker='.', c='blue', label=\"Train-set Loss\")\n",
        "\n",
        "plt.legend(loc='upper right')\n",
        "plt.grid()\n",
        "plt.xlabel('epoch')\n",
        "plt.ylabel('loss')\n",
        "plt.show()"
      ],
      "execution_count": null,
      "outputs": [
        {
          "output_type": "display_data",
          "data": {
            "image/png": "[encoded data removed]",
            "text/plain": [
              "<Figure size 432x288 with 1 Axes>"
            ]
          },
          "metadata": {
            "needs_background": "light"
          }
        }
      ]
    },
    {
      "cell_type": "code",
      "metadata": {
        "colab": {
          "base_uri": "https://localhost:8080/"
        },
        "id": "210BdKX1gN6_",
        "outputId": "8f109149-e824-441d-c494-75ba1885c201"
      },
      "source": [
        "print(\"-- Evaluate --\")\n",
        "scores = model.evaluate(test_generator, steps=37)\n",
        "print(\"%s: %.2f%%\" %(model.metrics_names[1], scores[1]*100))"
      ],
      "execution_count": 26,
      "outputs": [
        {
          "output_type": "stream",
          "name": "stdout",
          "text": [
            "-- Evaluate --\n",
            "37/37 [==============================] - 306s 9s/step - loss: 1.4397 - accuracy: 0.5507\n",
            "accuracy: 55.07%\n"
          ]
        }
      ]
    },
    {
      "cell_type": "code",
      "metadata": {
        "id": "K1uJl_6Kgcgr"
      },
      "source": [
        ""
      ],
      "execution_count": null,
      "outputs": []
    }
  ]
}