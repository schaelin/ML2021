{
  "nbformat": 4,
  "nbformat_minor": 0,
  "metadata": {
    "colab": {
      "name": "VGG19_03",
      "provenance": [],
      "collapsed_sections": []
    },
    "kernelspec": {
      "display_name": "Python 3",
      "name": "python3"
    },
    "language_info": {
      "name": "python"
    },
    "accelerator": "GPU"
  },
  "cells": [
    {
      "cell_type": "code",
      "metadata": {
        "colab": {
          "base_uri": "https://localhost:8080/"
        },
        "id": "AEO5YVXUsk8w",
        "outputId": "cd26dc7a-687a-4da5-aa8a-af4a640013b2"
      },
      "source": [
        "from google.colab import drive\n",
        "drive.mount('/content/drive')"
      ],
      "execution_count": null,
      "outputs": [
        {
          "output_type": "stream",
          "name": "stdout",
          "text": [
            "Drive already mounted at /content/drive; to attempt to forcibly remount, call drive.mount(\"/content/drive\", force_remount=True).\n"
          ]
        }
      ]
    },
    {
      "cell_type": "code",
      "metadata": {
        "id": "ZLm6n6AtVfni"
      },
      "source": [
        "from __future__ import print_function, division\n",
        "import torch\n",
        "import torch.nn as nn\n",
        "import torch.optim as optim\n",
        "from torch.optim import lr_scheduler\n",
        "from torch.autograd import Variable\n",
        "import numpy as np\n",
        "import torchvision\n",
        "from torchvision import datasets, models, transforms\n",
        "import matplotlib.pyplot as plt\n",
        "import time\n",
        "import os\n",
        "from torch.utils.data import Dataset, DataLoader"
      ],
      "execution_count": null,
      "outputs": []
    },
    {
      "cell_type": "markdown",
      "metadata": {
        "id": "6CI7rZgeGuiZ"
      },
      "source": [
        "### 데이터 로드"
      ]
    },
    {
      "cell_type": "code",
      "metadata": {
        "id": "T-Fi7EaSGt2S"
      },
      "source": [
        "trans = transforms.Compose([transforms.Resize((224,224)),\n",
        "                           transforms.ToTensor(),\n",
        "                           transforms.Normalize((0.5,0.5,0.5),(0.5,0.5,0.5))\n",
        "                           ])"
      ],
      "execution_count": null,
      "outputs": []
    },
    {
      "cell_type": "code",
      "metadata": {
        "id": "Kn_hE1aPsnpq"
      },
      "source": [
        "trainset = torchvision.datasets.ImageFolder(root = \"/content/drive/MyDrive/Colab Notebooks/ml2021/data03/train\",\n",
        "                                           transform = trans)\n",
        "\n",
        "train_loader = torch.utils.data.DataLoader(trainset, batch_size=8,\n",
        "                                          shuffle=True)"
      ],
      "execution_count": null,
      "outputs": []
    },
    {
      "cell_type": "code",
      "metadata": {
        "id": "Hivi0YDZQeFh"
      },
      "source": [
        "validationset = torchvision.datasets.ImageFolder(root = \"/content/drive/MyDrive/Colab Notebooks/ml2021/data03/valid\",\n",
        "                                           transform = trans)\n",
        "\n",
        "val_loader = torch.utils.data.DataLoader(validationset, batch_size=8,\n",
        "                                          shuffle=True)"
      ],
      "execution_count": null,
      "outputs": []
    },
    {
      "cell_type": "code",
      "metadata": {
        "id": "yQMzqZrv0UGM"
      },
      "source": [
        "testset = torchvision.datasets.ImageFolder(root = \"/content/drive/MyDrive/Colab Notebooks/ml2021/data03/test\",\n",
        "                                           transform = trans)\n",
        "\n",
        "test_loader = torch.utils.data.DataLoader(testset, batch_size = 8,\n",
        "                                         shuffle = True)"
      ],
      "execution_count": null,
      "outputs": []
    },
    {
      "cell_type": "markdown",
      "metadata": {
        "id": "ILRBEcZTGzD7"
      },
      "source": [
        "### 이미지 데이터 확인"
      ]
    },
    {
      "cell_type": "code",
      "metadata": {
        "id": "okim06CkYKoO"
      },
      "source": [
        "def imshow(inp, title=None):\n",
        "    \"\"\"Imshow for Tensor.\"\"\"\n",
        "    inp = inp.numpy().transpose((1, 2, 0))\n",
        "    mean = np.array([0.485, 0.456, 0.406])\n",
        "    std = np.array([0.229, 0.224, 0.225])\n",
        "    inp = std * inp + mean\n",
        "    inp = np.clip(inp, 0, 1)\n",
        "    plt.imshow(inp)\n",
        "    if title is not None:\n",
        "        plt.title(title)\n",
        "    plt.pause(0.001)  # 갱신이 될 때까지 잠시 기다립니다."
      ],
      "execution_count": null,
      "outputs": []
    },
    {
      "cell_type": "code",
      "metadata": {
        "colab": {
          "base_uri": "https://localhost:8080/",
          "height": 106
        },
        "id": "j9Y-UvDDnXmM",
        "outputId": "709a1406-1fa9-4847-ee05-7fe46e157a67"
      },
      "source": [
        "inputs, classes = next(iter(train_loader))\n",
        "class_names = trainset.classes\n",
        "# 배치로부터 격자 형태의 이미지를 만듭니다.\n",
        "out = torchvision.utils.make_grid(inputs)\n",
        "\n",
        "imshow(out, title=[class_names[x] for x in classes])"
      ],
      "execution_count": null,
      "outputs": [
        {
          "output_type": "display_data",
          "data": {
            "image/png": "[encoded data removed]",
            "text/plain": [
              "<Figure size 432x288 with 1 Axes>"
            ]
          },
          "metadata": {
            "needs_background": "light"
          }
        }
      ]
    },
    {
      "cell_type": "markdown",
      "metadata": {
        "id": "YWa5yj5zG4Zf"
      },
      "source": [
        "## googlenet"
      ]
    },
    {
      "cell_type": "code",
      "metadata": {
        "id": "9HUnc-Te0LV6"
      },
      "source": [
        "import torchvision.models as models\n",
        "net=models.vgg19(pretrained = True)"
      ],
      "execution_count": null,
      "outputs": []
    },
    {
      "cell_type": "code",
      "metadata": {
        "colab": {
          "base_uri": "https://localhost:8080/"
        },
        "id": "T_hSHP0a0Mwj",
        "outputId": "943581b4-0b5c-4a81-9197-3bd47d3d0220"
      },
      "source": [
        "net.classifier[-1].out_features = 3\n",
        "\n",
        "# freeze convolution weights\n",
        "for param in net.features.parameters():\n",
        "    param.requires_grad = False\n",
        "\n",
        "net.cuda()"
      ],
      "execution_count": null,
      "outputs": [
        {
          "output_type": "execute_result",
          "data": {
            "text/plain": [
              "VGG(\n",
              "  (features): Sequential(\n",
              "    (0): Conv2d(3, 64, kernel_size=(3, 3), stride=(1, 1), padding=(1, 1))\n",
              "    (1): ReLU(inplace=True)\n",
              "    (2): Conv2d(64, 64, kernel_size=(3, 3), stride=(1, 1), padding=(1, 1))\n",
              "    (3): ReLU(inplace=True)\n",
              "    (4): MaxPool2d(kernel_size=2, stride=2, padding=0, dilation=1, ceil_mode=False)\n",
              "    (5): Conv2d(64, 128, kernel_size=(3, 3), stride=(1, 1), padding=(1, 1))\n",
              "    (6): ReLU(inplace=True)\n",
              "    (7): Conv2d(128, 128, kernel_size=(3, 3), stride=(1, 1), padding=(1, 1))\n",
              "    (8): ReLU(inplace=True)\n",
              "    (9): MaxPool2d(kernel_size=2, stride=2, padding=0, dilation=1, ceil_mode=False)\n",
              "    (10): Conv2d(128, 256, kernel_size=(3, 3), stride=(1, 1), padding=(1, 1))\n",
              "    (11): ReLU(inplace=True)\n",
              "    (12): Conv2d(256, 256, kernel_size=(3, 3), stride=(1, 1), padding=(1, 1))\n",
              "    (13): ReLU(inplace=True)\n",
              "    (14): Conv2d(256, 256, kernel_size=(3, 3), stride=(1, 1), padding=(1, 1))\n",
              "    (15): ReLU(inplace=True)\n",
              "    (16): Conv2d(256, 256, kernel_size=(3, 3), stride=(1, 1), padding=(1, 1))\n",
              "    (17): ReLU(inplace=True)\n",
              "    (18): MaxPool2d(kernel_size=2, stride=2, padding=0, dilation=1, ceil_mode=False)\n",
              "    (19): Conv2d(256, 512, kernel_size=(3, 3), stride=(1, 1), padding=(1, 1))\n",
              "    (20): ReLU(inplace=True)\n",
              "    (21): Conv2d(512, 512, kernel_size=(3, 3), stride=(1, 1), padding=(1, 1))\n",
              "    (22): ReLU(inplace=True)\n",
              "    (23): Conv2d(512, 512, kernel_size=(3, 3), stride=(1, 1), padding=(1, 1))\n",
              "    (24): ReLU(inplace=True)\n",
              "    (25): Conv2d(512, 512, kernel_size=(3, 3), stride=(1, 1), padding=(1, 1))\n",
              "    (26): ReLU(inplace=True)\n",
              "    (27): MaxPool2d(kernel_size=2, stride=2, padding=0, dilation=1, ceil_mode=False)\n",
              "    (28): Conv2d(512, 512, kernel_size=(3, 3), stride=(1, 1), padding=(1, 1))\n",
              "    (29): ReLU(inplace=True)\n",
              "    (30): Conv2d(512, 512, kernel_size=(3, 3), stride=(1, 1), padding=(1, 1))\n",
              "    (31): ReLU(inplace=True)\n",
              "    (32): Conv2d(512, 512, kernel_size=(3, 3), stride=(1, 1), padding=(1, 1))\n",
              "    (33): ReLU(inplace=True)\n",
              "    (34): Conv2d(512, 512, kernel_size=(3, 3), stride=(1, 1), padding=(1, 1))\n",
              "    (35): ReLU(inplace=True)\n",
              "    (36): MaxPool2d(kernel_size=2, stride=2, padding=0, dilation=1, ceil_mode=False)\n",
              "  )\n",
              "  (avgpool): AdaptiveAvgPool2d(output_size=(7, 7))\n",
              "  (classifier): Sequential(\n",
              "    (0): Linear(in_features=25088, out_features=4096, bias=True)\n",
              "    (1): ReLU(inplace=True)\n",
              "    (2): Dropout(p=0.5, inplace=False)\n",
              "    (3): Linear(in_features=4096, out_features=4096, bias=True)\n",
              "    (4): ReLU(inplace=True)\n",
              "    (5): Dropout(p=0.5, inplace=False)\n",
              "    (6): Linear(in_features=4096, out_features=3, bias=True)\n",
              "  )\n",
              ")"
            ]
          },
          "metadata": {},
          "execution_count": 52
        }
      ]
    },
    {
      "cell_type": "code",
      "metadata": {
        "id": "8ljq0eYu0Qu7"
      },
      "source": [
        "import torch.optim as optim\n",
        "optimizer = optim.SGD(net.classifier.parameters(), lr=0.001, momentum=0.9)\n",
        "# loss function\n",
        "criterion = nn.CrossEntropyLoss()"
      ],
      "execution_count": null,
      "outputs": []
    },
    {
      "cell_type": "markdown",
      "metadata": {
        "id": "vv_0CnR2HHId"
      },
      "source": [
        "## 학습"
      ]
    },
    {
      "cell_type": "code",
      "metadata": {
        "id": "9gYm379Ittvf"
      },
      "source": [
        "def val_eval(val_loader):\n",
        "  class_correct = list(0. for i in range(1000))\n",
        "  class_total = list(0. for i in range(1000))\n",
        "  val_loss = 0.0\n",
        "  with torch.no_grad():\n",
        "      for i,data in enumerate(val_loader,0):\n",
        "          images, labels = data\n",
        "          images = images.cuda()\n",
        "          labels = labels.cuda()\n",
        "\n",
        "          optimizer.zero_grad()\n",
        "          outputs = net(images)\n",
        "\n",
        "          loss = criterion(outputs, labels)\n",
        "\n",
        "          _, predicted = torch.max(outputs, 1)\n",
        "          c = (predicted == labels).squeeze()\n",
        "          for i in range(labels.size()[0]):\n",
        "              label = labels[i].item()\n",
        "              class_correct[label] += c[i].item()\n",
        "              class_total[label] += 1\n",
        "              val_loss += loss.item()\n",
        "  val_acc = sum(class_correct) / sum(class_total) * 100\n",
        "\n",
        "\n",
        "  print('-------------------------------val loss:', val_loss / len(val_loader))\n",
        "  print(\"-------------------------------val Accuracy = \",val_acc)\n",
        "\n",
        "\n",
        "            "
      ],
      "execution_count": null,
      "outputs": []
    },
    {
      "cell_type": "code",
      "metadata": {
        "colab": {
          "base_uri": "https://localhost:8080/"
        },
        "id": "Hdf7LyRB0SZ8",
        "outputId": "a3272053-0b50-4662-89b9-5d9e1f77ae56"
      },
      "source": [
        "for epoch in range(30):\n",
        "  total = 0\n",
        "  print(\"Training...\")\n",
        "  running_loss = 0.0\n",
        "  correct = 0\n",
        "  for i, data in enumerate(train_loader, 0):\n",
        "      inputs, labels = data\n",
        "      inputs, labels = inputs.cuda(), labels.cuda()\n",
        "      inputs, lables = Variable(inputs.float().cuda()), Variable(labels.float().cuda())\n",
        "      if i%100 == 0 :\n",
        "          print(\"Training...\",i)  \n",
        "      optimizer.zero_grad()\n",
        "      outputs = net(inputs)\n",
        "      loss = criterion(outputs, labels)\n",
        "        \n",
        "      loss.backward()\n",
        "      optimizer.step()\n",
        "        \n",
        "      max_index = outputs.max(dim=1)[1]\n",
        "      correct += (max_index == labels).sum().item()\n",
        "      total += labels.size(0)\n",
        "\n",
        "\n",
        "      running_loss += loss.item()\n",
        "      if i % len(train_loader) == len(train_loader) - 1:\n",
        "        print('[epoc: %d, %5d] training loss: %.3f' %(epoch + 1, i + 1, running_loss / len(train_loader)))\n",
        "        print(\"Training Accuracy = {}\".format(100 * correct / total))\n",
        "        val_eval(val_loader)\n",
        "\n",
        "            \n",
        "print('finish') "
      ],
      "execution_count": null,
      "outputs": [
        {
          "output_type": "stream",
          "name": "stdout",
          "text": [
            "Training...\n",
            "Training... 0\n",
            "Training... 100\n",
            "[epoc: 1,   124] training loss: 1.345\n",
            "Training Accuracy = 59.51417004048583\n",
            "-------------------------------val loss: 10.54718892805038\n",
            "-------------------------------val Accuracy =  52.84552845528455\n",
            "Training...\n",
            "Training... 0\n",
            "Training... 100\n",
            "[epoc: 2,   124] training loss: 0.685\n",
            "Training Accuracy = 72.97570850202429\n",
            "-------------------------------val loss: 6.465663817621047\n",
            "-------------------------------val Accuracy =  69.10569105691057\n",
            "Training...\n",
            "Training... 0\n",
            "Training... 100\n",
            "[epoc: 3,   124] training loss: 0.509\n",
            "Training Accuracy = 82.08502024291498\n",
            "-------------------------------val loss: 8.266714602708817\n",
            "-------------------------------val Accuracy =  65.04065040650406\n",
            "Training...\n",
            "Training... 0\n",
            "Training... 100\n",
            "[epoc: 4,   124] training loss: 0.387\n",
            "Training Accuracy = 84.91902834008097\n",
            "-------------------------------val loss: 6.837341812349135\n",
            "-------------------------------val Accuracy =  67.88617886178862\n",
            "Training...\n",
            "Training... 0\n",
            "Training... 100\n",
            "[epoc: 5,   124] training loss: 0.287\n",
            "Training Accuracy = 88.8663967611336\n",
            "-------------------------------val loss: 7.768675362871539\n",
            "-------------------------------val Accuracy =  69.51219512195121\n",
            "Training...\n",
            "Training... 0\n",
            "Training... 100\n",
            "[epoc: 6,   124] training loss: 0.260\n",
            "Training Accuracy = 90.08097165991903\n",
            "-------------------------------val loss: 8.488478803826917\n",
            "-------------------------------val Accuracy =  67.07317073170732\n",
            "Training...\n",
            "Training... 0\n",
            "Training... 100\n",
            "[epoc: 7,   124] training loss: 0.171\n",
            "Training Accuracy = 93.7246963562753\n",
            "-------------------------------val loss: 7.37774391712681\n",
            "-------------------------------val Accuracy =  66.26016260162602\n",
            "Training...\n",
            "Training... 0\n",
            "Training... 100\n",
            "[epoc: 8,   124] training loss: 0.141\n",
            "Training Accuracy = 95.44534412955466\n",
            "-------------------------------val loss: 7.602129015230363\n",
            "-------------------------------val Accuracy =  73.98373983739837\n",
            "Training...\n",
            "Training... 0\n",
            "Training... 100\n",
            "[epoc: 9,   124] training loss: 0.099\n",
            "Training Accuracy = 96.15384615384616\n",
            "-------------------------------val loss: 8.885809629194197\n",
            "-------------------------------val Accuracy =  72.35772357723577\n",
            "Training...\n",
            "Training... 0\n",
            "Training... 100\n",
            "[epoc: 10,   124] training loss: 0.077\n",
            "Training Accuracy = 97.36842105263158\n",
            "-------------------------------val loss: 9.983344590471637\n",
            "-------------------------------val Accuracy =  71.95121951219512\n",
            "Training...\n",
            "Training... 0\n",
            "Training... 100\n",
            "[epoc: 11,   124] training loss: 0.087\n",
            "Training Accuracy = 96.96356275303644\n",
            "-------------------------------val loss: 10.96296428865002\n",
            "-------------------------------val Accuracy =  71.13821138211382\n",
            "Training...\n",
            "Training... 0\n",
            "Training... 100\n",
            "[epoc: 12,   124] training loss: 0.051\n",
            "Training Accuracy = 97.97570850202429\n",
            "-------------------------------val loss: 10.166262294015576\n",
            "-------------------------------val Accuracy =  68.29268292682927\n",
            "Training...\n",
            "Training... 0\n",
            "Training... 100\n",
            "[epoc: 13,   124] training loss: 0.040\n",
            "Training Accuracy = 98.6842105263158\n",
            "-------------------------------val loss: 11.274930607888006\n",
            "-------------------------------val Accuracy =  70.73170731707317\n",
            "Training...\n",
            "Training... 0\n",
            "Training... 100\n",
            "[epoc: 14,   124] training loss: 0.030\n",
            "Training Accuracy = 99.08906882591093\n",
            "-------------------------------val loss: 11.590414894684669\n",
            "-------------------------------val Accuracy =  69.10569105691057\n",
            "Training...\n",
            "Training... 0\n",
            "Training... 100\n",
            "[epoc: 15,   124] training loss: 0.019\n",
            "Training Accuracy = 99.59514170040485\n",
            "-------------------------------val loss: 12.457471599501948\n",
            "-------------------------------val Accuracy =  71.13821138211382\n",
            "Training...\n",
            "Training... 0\n",
            "Training... 100\n",
            "[epoc: 16,   124] training loss: 0.026\n",
            "Training Accuracy = 99.08906882591093\n",
            "-------------------------------val loss: 12.410757817568317\n",
            "-------------------------------val Accuracy =  71.54471544715447\n",
            "Training...\n",
            "Training... 0\n",
            "Training... 100\n",
            "[epoc: 17,   124] training loss: 0.019\n",
            "Training Accuracy = 99.2914979757085\n",
            "-------------------------------val loss: 11.662721110928443\n",
            "-------------------------------val Accuracy =  70.32520325203252\n",
            "Training...\n",
            "Training... 0\n",
            "Training... 100\n",
            "[epoc: 18,   124] training loss: 0.019\n",
            "Training Accuracy = 99.59514170040485\n",
            "-------------------------------val loss: 11.248547020758833\n",
            "-------------------------------val Accuracy =  73.17073170731707\n",
            "Training...\n",
            "Training... 0\n",
            "Training... 100\n",
            "[epoc: 19,   124] training loss: 0.012\n",
            "Training Accuracy = 99.69635627530364\n",
            "-------------------------------val loss: 12.609359746738788\n",
            "-------------------------------val Accuracy =  72.35772357723577\n",
            "Training...\n",
            "Training... 0\n",
            "Training... 100\n",
            "[epoc: 20,   124] training loss: 0.011\n",
            "Training Accuracy = 99.69635627530364\n",
            "-------------------------------val loss: 13.709323069741648\n",
            "-------------------------------val Accuracy =  70.73170731707317\n",
            "Training...\n",
            "Training... 0\n",
            "Training... 100\n",
            "[epoc: 21,   124] training loss: 0.007\n",
            "Training Accuracy = 100.0\n",
            "-------------------------------val loss: 13.320368645892989\n",
            "-------------------------------val Accuracy =  68.29268292682927\n",
            "Training...\n",
            "Training... 0\n",
            "Training... 100\n",
            "[epoc: 22,   124] training loss: 0.006\n",
            "Training Accuracy = 100.0\n",
            "-------------------------------val loss: 14.039436784963454\n",
            "-------------------------------val Accuracy =  71.13821138211382\n",
            "Training...\n",
            "Training... 0\n",
            "Training... 100\n",
            "[epoc: 23,   124] training loss: 0.017\n",
            "Training Accuracy = 99.39271255060729\n",
            "-------------------------------val loss: 13.323424702690494\n",
            "-------------------------------val Accuracy =  71.95121951219512\n",
            "Training...\n",
            "Training... 0\n",
            "Training... 100\n",
            "[epoc: 24,   124] training loss: 0.008\n",
            "Training Accuracy = 99.89878542510121\n",
            "-------------------------------val loss: 13.597700576928835\n",
            "-------------------------------val Accuracy =  70.32520325203252\n",
            "Training...\n",
            "Training... 0\n",
            "Training... 100\n",
            "[epoc: 25,   124] training loss: 0.015\n",
            "Training Accuracy = 99.49392712550608\n",
            "-------------------------------val loss: 14.111453027494493\n",
            "-------------------------------val Accuracy =  68.69918699186992\n",
            "Training...\n",
            "Training... 0\n",
            "Training... 100\n",
            "[epoc: 26,   124] training loss: 0.009\n",
            "Training Accuracy = 99.79757085020243\n",
            "-------------------------------val loss: 13.576327806999606\n",
            "-------------------------------val Accuracy =  69.51219512195121\n",
            "Training...\n",
            "Training... 0\n",
            "Training... 100\n",
            "[epoc: 27,   124] training loss: 0.003\n",
            "Training Accuracy = 100.0\n",
            "-------------------------------val loss: 15.293387901398443\n",
            "-------------------------------val Accuracy =  69.10569105691057\n",
            "Training...\n",
            "Training... 0\n",
            "Training... 100\n",
            "[epoc: 28,   124] training loss: 0.004\n",
            "Training Accuracy = 100.0\n",
            "-------------------------------val loss: 14.103371016440853\n",
            "-------------------------------val Accuracy =  71.13821138211382\n",
            "Training...\n",
            "Training... 0\n",
            "Training... 100\n",
            "[epoc: 29,   124] training loss: 0.005\n",
            "Training Accuracy = 99.79757085020243\n",
            "-------------------------------val loss: 13.61558751329299\n",
            "-------------------------------val Accuracy =  74.39024390243902\n",
            "Training...\n",
            "Training... 0\n",
            "Training... 100\n",
            "[epoc: 30,   124] training loss: 0.002\n",
            "Training Accuracy = 100.0\n",
            "-------------------------------val loss: 14.567210028849301\n",
            "-------------------------------val Accuracy =  67.47967479674797\n",
            "finish\n"
          ]
        }
      ]
    },
    {
      "cell_type": "markdown",
      "metadata": {
        "id": "5NWoMyDkHPNA"
      },
      "source": [
        "### 정확도 확인"
      ]
    },
    {
      "cell_type": "code",
      "metadata": {
        "id": "-Tu2ohEAcU2I",
        "colab": {
          "base_uri": "https://localhost:8080/"
        },
        "outputId": "f5eddf31-9c14-4481-9181-b3bda2dd6d20"
      },
      "source": [
        "correct = 0\n",
        "total = 0\n",
        "with torch.no_grad():\n",
        "    for i, data in enumerate(test_loader, 0):\n",
        "        images, labels = data\n",
        "        images, labels = images.float().cuda(), labels.float().cuda()\n",
        "\n",
        "        outputs = net(images)\n",
        "        max_index = outputs.max(dim=1)[1]\n",
        "        total += labels.size(0)\n",
        "        correct += (max_index == labels).sum().item()\n",
        "\n",
        "print('Accuracy of Test: %d %%' % (100 * correct / total))"
      ],
      "execution_count": null,
      "outputs": [
        {
          "output_type": "stream",
          "name": "stdout",
          "text": [
            "Accuracy of Test: 75 %\n"
          ]
        }
      ]
    },
    {
      "cell_type": "code",
      "metadata": {
        "id": "8cNljt5hhgqn"
      },
      "source": [
        ""
      ],
      "execution_count": null,
      "outputs": []
    },
    {
      "cell_type": "code",
      "metadata": {
        "id": "Lk-v2_uYX8PA"
      },
      "source": [
        ""
      ],
      "execution_count": null,
      "outputs": []
    }
  ]
}