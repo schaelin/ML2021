{
  "nbformat": 4,
  "nbformat_minor": 0,
  "metadata": {
    "colab": {
      "name": "VGG19",
      "provenance": [],
      "collapsed_sections": []
    },
    "kernelspec": {
      "display_name": "Python 3",
      "name": "python3"
    },
    "language_info": {
      "name": "python"
    },
    "widgets": {
      "application/vnd.jupyter.widget-state+json": {
        "bb30c2f0af5f435b803eac8f94a69e88": {
          "model_module": "@jupyter-widgets/controls",
          "model_name": "HBoxModel",
          "model_module_version": "1.5.0",
          "state": {
            "_view_name": "HBoxView",
            "_dom_classes": [],
            "_model_name": "HBoxModel",
            "_view_module": "@jupyter-widgets/controls",
            "_model_module_version": "1.5.0",
            "_view_count": null,
            "_view_module_version": "1.5.0",
            "box_style": "",
            "layout": "IPY_MODEL_84a614c60b8e4c269a27ce4fb68308ed",
            "_model_module": "@jupyter-widgets/controls",
            "children": [
              "IPY_MODEL_31a0edf6b79f415f8416b48ca187cea4",
              "IPY_MODEL_edef2c9efdf34d28a643fbf03cc48a0e",
              "IPY_MODEL_5f98d1b7dc8a42ac999a5e5c293c9ed3"
            ]
          }
        },
        "84a614c60b8e4c269a27ce4fb68308ed": {
          "model_module": "@jupyter-widgets/base",
          "model_name": "LayoutModel",
          "model_module_version": "1.2.0",
          "state": {
            "_view_name": "LayoutView",
            "grid_template_rows": null,
            "right": null,
            "justify_content": null,
            "_view_module": "@jupyter-widgets/base",
            "overflow": null,
            "_model_module_version": "1.2.0",
            "_view_count": null,
            "flex_flow": null,
            "width": null,
            "min_width": null,
            "border": null,
            "align_items": null,
            "bottom": null,
            "_model_module": "@jupyter-widgets/base",
            "top": null,
            "grid_column": null,
            "overflow_y": null,
            "overflow_x": null,
            "grid_auto_flow": null,
            "grid_area": null,
            "grid_template_columns": null,
            "flex": null,
            "_model_name": "LayoutModel",
            "justify_items": null,
            "grid_row": null,
            "max_height": null,
            "align_content": null,
            "visibility": null,
            "align_self": null,
            "height": null,
            "min_height": null,
            "padding": null,
            "grid_auto_rows": null,
            "grid_gap": null,
            "max_width": null,
            "order": null,
            "_view_module_version": "1.2.0",
            "grid_template_areas": null,
            "object_position": null,
            "object_fit": null,
            "grid_auto_columns": null,
            "margin": null,
            "display": null,
            "left": null
          }
        },
        "31a0edf6b79f415f8416b48ca187cea4": {
          "model_module": "@jupyter-widgets/controls",
          "model_name": "HTMLModel",
          "model_module_version": "1.5.0",
          "state": {
            "_view_name": "HTMLView",
            "style": "IPY_MODEL_d13885215ec94c91bdacaa69467650a9",
            "_dom_classes": [],
            "description": "",
            "_model_name": "HTMLModel",
            "placeholder": "​",
            "_view_module": "@jupyter-widgets/controls",
            "_model_module_version": "1.5.0",
            "value": "100%",
            "_view_count": null,
            "_view_module_version": "1.5.0",
            "description_tooltip": null,
            "_model_module": "@jupyter-widgets/controls",
            "layout": "IPY_MODEL_5f358f100f9f479984cd57d6b98dbb92"
          }
        },
        "edef2c9efdf34d28a643fbf03cc48a0e": {
          "model_module": "@jupyter-widgets/controls",
          "model_name": "FloatProgressModel",
          "model_module_version": "1.5.0",
          "state": {
            "_view_name": "ProgressView",
            "style": "IPY_MODEL_afc28e5cf9154871aa7edeec88e29f62",
            "_dom_classes": [],
            "description": "",
            "_model_name": "FloatProgressModel",
            "bar_style": "success",
            "max": 574673361,
            "_view_module": "@jupyter-widgets/controls",
            "_model_module_version": "1.5.0",
            "value": 574673361,
            "_view_count": null,
            "_view_module_version": "1.5.0",
            "orientation": "horizontal",
            "min": 0,
            "description_tooltip": null,
            "_model_module": "@jupyter-widgets/controls",
            "layout": "IPY_MODEL_8a3c3b783c2645bd8fc60afa90f9aa19"
          }
        },
        "5f98d1b7dc8a42ac999a5e5c293c9ed3": {
          "model_module": "@jupyter-widgets/controls",
          "model_name": "HTMLModel",
          "model_module_version": "1.5.0",
          "state": {
            "_view_name": "HTMLView",
            "style": "IPY_MODEL_ff6d6febcbd24e6d896223052763c4da",
            "_dom_classes": [],
            "description": "",
            "_model_name": "HTMLModel",
            "placeholder": "​",
            "_view_module": "@jupyter-widgets/controls",
            "_model_module_version": "1.5.0",
            "value": " 548M/548M [00:08&lt;00:00, 61.0MB/s]",
            "_view_count": null,
            "_view_module_version": "1.5.0",
            "description_tooltip": null,
            "_model_module": "@jupyter-widgets/controls",
            "layout": "IPY_MODEL_fc4206db0f70496e8a70947b2e1eae7b"
          }
        },
        "d13885215ec94c91bdacaa69467650a9": {
          "model_module": "@jupyter-widgets/controls",
          "model_name": "DescriptionStyleModel",
          "model_module_version": "1.5.0",
          "state": {
            "_view_name": "StyleView",
            "_model_name": "DescriptionStyleModel",
            "description_width": "",
            "_view_module": "@jupyter-widgets/base",
            "_model_module_version": "1.5.0",
            "_view_count": null,
            "_view_module_version": "1.2.0",
            "_model_module": "@jupyter-widgets/controls"
          }
        },
        "5f358f100f9f479984cd57d6b98dbb92": {
          "model_module": "@jupyter-widgets/base",
          "model_name": "LayoutModel",
          "model_module_version": "1.2.0",
          "state": {
            "_view_name": "LayoutView",
            "grid_template_rows": null,
            "right": null,
            "justify_content": null,
            "_view_module": "@jupyter-widgets/base",
            "overflow": null,
            "_model_module_version": "1.2.0",
            "_view_count": null,
            "flex_flow": null,
            "width": null,
            "min_width": null,
            "border": null,
            "align_items": null,
            "bottom": null,
            "_model_module": "@jupyter-widgets/base",
            "top": null,
            "grid_column": null,
            "overflow_y": null,
            "overflow_x": null,
            "grid_auto_flow": null,
            "grid_area": null,
            "grid_template_columns": null,
            "flex": null,
            "_model_name": "LayoutModel",
            "justify_items": null,
            "grid_row": null,
            "max_height": null,
            "align_content": null,
            "visibility": null,
            "align_self": null,
            "height": null,
            "min_height": null,
            "padding": null,
            "grid_auto_rows": null,
            "grid_gap": null,
            "max_width": null,
            "order": null,
            "_view_module_version": "1.2.0",
            "grid_template_areas": null,
            "object_position": null,
            "object_fit": null,
            "grid_auto_columns": null,
            "margin": null,
            "display": null,
            "left": null
          }
        },
        "afc28e5cf9154871aa7edeec88e29f62": {
          "model_module": "@jupyter-widgets/controls",
          "model_name": "ProgressStyleModel",
          "model_module_version": "1.5.0",
          "state": {
            "_view_name": "StyleView",
            "_model_name": "ProgressStyleModel",
            "description_width": "",
            "_view_module": "@jupyter-widgets/base",
            "_model_module_version": "1.5.0",
            "_view_count": null,
            "_view_module_version": "1.2.0",
            "bar_color": null,
            "_model_module": "@jupyter-widgets/controls"
          }
        },
        "8a3c3b783c2645bd8fc60afa90f9aa19": {
          "model_module": "@jupyter-widgets/base",
          "model_name": "LayoutModel",
          "model_module_version": "1.2.0",
          "state": {
            "_view_name": "LayoutView",
            "grid_template_rows": null,
            "right": null,
            "justify_content": null,
            "_view_module": "@jupyter-widgets/base",
            "overflow": null,
            "_model_module_version": "1.2.0",
            "_view_count": null,
            "flex_flow": null,
            "width": null,
            "min_width": null,
            "border": null,
            "align_items": null,
            "bottom": null,
            "_model_module": "@jupyter-widgets/base",
            "top": null,
            "grid_column": null,
            "overflow_y": null,
            "overflow_x": null,
            "grid_auto_flow": null,
            "grid_area": null,
            "grid_template_columns": null,
            "flex": null,
            "_model_name": "LayoutModel",
            "justify_items": null,
            "grid_row": null,
            "max_height": null,
            "align_content": null,
            "visibility": null,
            "align_self": null,
            "height": null,
            "min_height": null,
            "padding": null,
            "grid_auto_rows": null,
            "grid_gap": null,
            "max_width": null,
            "order": null,
            "_view_module_version": "1.2.0",
            "grid_template_areas": null,
            "object_position": null,
            "object_fit": null,
            "grid_auto_columns": null,
            "margin": null,
            "display": null,
            "left": null
          }
        },
        "ff6d6febcbd24e6d896223052763c4da": {
          "model_module": "@jupyter-widgets/controls",
          "model_name": "DescriptionStyleModel",
          "model_module_version": "1.5.0",
          "state": {
            "_view_name": "StyleView",
            "_model_name": "DescriptionStyleModel",
            "description_width": "",
            "_view_module": "@jupyter-widgets/base",
            "_model_module_version": "1.5.0",
            "_view_count": null,
            "_view_module_version": "1.2.0",
            "_model_module": "@jupyter-widgets/controls"
          }
        },
        "fc4206db0f70496e8a70947b2e1eae7b": {
          "model_module": "@jupyter-widgets/base",
          "model_name": "LayoutModel",
          "model_module_version": "1.2.0",
          "state": {
            "_view_name": "LayoutView",
            "grid_template_rows": null,
            "right": null,
            "justify_content": null,
            "_view_module": "@jupyter-widgets/base",
            "overflow": null,
            "_model_module_version": "1.2.0",
            "_view_count": null,
            "flex_flow": null,
            "width": null,
            "min_width": null,
            "border": null,
            "align_items": null,
            "bottom": null,
            "_model_module": "@jupyter-widgets/base",
            "top": null,
            "grid_column": null,
            "overflow_y": null,
            "overflow_x": null,
            "grid_auto_flow": null,
            "grid_area": null,
            "grid_template_columns": null,
            "flex": null,
            "_model_name": "LayoutModel",
            "justify_items": null,
            "grid_row": null,
            "max_height": null,
            "align_content": null,
            "visibility": null,
            "align_self": null,
            "height": null,
            "min_height": null,
            "padding": null,
            "grid_auto_rows": null,
            "grid_gap": null,
            "max_width": null,
            "order": null,
            "_view_module_version": "1.2.0",
            "grid_template_areas": null,
            "object_position": null,
            "object_fit": null,
            "grid_auto_columns": null,
            "margin": null,
            "display": null,
            "left": null
          }
        }
      }
    },
    "accelerator": "GPU"
  },
  "cells": [
    {
      "cell_type": "code",
      "metadata": {
        "colab": {
          "base_uri": "https://localhost:8080/"
        },
        "id": "AEO5YVXUsk8w",
        "outputId": "51d83d58-9ab4-49c7-830a-95353971c03c"
      },
      "source": [
        "from google.colab import drive\n",
        "drive.mount('/content/drive')"
      ],
      "execution_count": 2,
      "outputs": [
        {
          "output_type": "stream",
          "name": "stdout",
          "text": [
            "Drive already mounted at /content/drive; to attempt to forcibly remount, call drive.mount(\"/content/drive\", force_remount=True).\n"
          ]
        }
      ]
    },
    {
      "cell_type": "code",
      "metadata": {
        "id": "ZLm6n6AtVfni"
      },
      "source": [
        "from __future__ import print_function, division\n",
        "import torch\n",
        "import torch.nn as nn\n",
        "import torch.optim as optim\n",
        "from torch.optim import lr_scheduler\n",
        "from torch.autograd import Variable\n",
        "import numpy as np\n",
        "import torchvision\n",
        "from torchvision import datasets, models, transforms\n",
        "import matplotlib.pyplot as plt\n",
        "import time\n",
        "import os\n",
        "from torch.utils.data import Dataset, DataLoader"
      ],
      "execution_count": 3,
      "outputs": []
    },
    {
      "cell_type": "code",
      "metadata": {
        "id": "Kn_hE1aPsnpq"
      },
      "source": [
        "trans = transforms.Compose([transforms.Resize((224,224)),\n",
        "                           transforms.ToTensor(),\n",
        "                           transforms.Normalize((0.5,0.5,0.5),(0.5,0.5,0.5))\n",
        "                           ])\n",
        "\n",
        "trainset = torchvision.datasets.ImageFolder(root = \"/content/drive/MyDrive/Colab Notebooks/ml2021/data04/Train\",\n",
        "                                           transform = trans)"
      ],
      "execution_count": 4,
      "outputs": []
    },
    {
      "cell_type": "code",
      "metadata": {
        "id": "Z5PFHoW2zc_u"
      },
      "source": [
        "train_loader = torch.utils.data.DataLoader(trainset, batch_size=4,\n",
        "                                          shuffle=True)"
      ],
      "execution_count": 5,
      "outputs": []
    },
    {
      "cell_type": "code",
      "metadata": {
        "id": "zGqfHzCXgjJf"
      },
      "source": [
        ""
      ],
      "execution_count": 5,
      "outputs": []
    },
    {
      "cell_type": "code",
      "metadata": {
        "id": "okim06CkYKoO"
      },
      "source": [
        "def imshow(inp, title=None):\n",
        "    \"\"\"Imshow for Tensor.\"\"\"\n",
        "    inp = inp.numpy().transpose((1, 2, 0))\n",
        "    mean = np.array([0.485, 0.456, 0.406])\n",
        "    std = np.array([0.229, 0.224, 0.225])\n",
        "    inp = std * inp + mean\n",
        "    inp = np.clip(inp, 0, 1)\n",
        "    plt.imshow(inp)\n",
        "    if title is not None:\n",
        "        plt.title(title)\n",
        "    plt.pause(0.001)  # 갱신이 될 때까지 잠시 기다립니다."
      ],
      "execution_count": 6,
      "outputs": []
    },
    {
      "cell_type": "code",
      "metadata": {
        "colab": {
          "base_uri": "https://localhost:8080/",
          "height": 148
        },
        "id": "j9Y-UvDDnXmM",
        "outputId": "463eb722-b74d-43a8-feb9-64ed92d7700f"
      },
      "source": [
        "inputs, classes = next(iter(train_loader))\n",
        "class_names = trainset.classes\n",
        "# 배치로부터 격자 형태의 이미지를 만듭니다.\n",
        "out = torchvision.utils.make_grid(inputs)\n",
        "\n",
        "imshow(out, title=[class_names[x] for x in classes])"
      ],
      "execution_count": 7,
      "outputs": [
        {
          "output_type": "display_data",
          "data": {
            "image/png": "[encoded data removed]",
            "text/plain": [
              "<Figure size 432x288 with 1 Axes>"
            ]
          },
          "metadata": {
            "needs_background": "light"
          }
        }
      ]
    },
    {
      "cell_type": "code",
      "metadata": {
        "colab": {
          "base_uri": "https://localhost:8080/"
        },
        "id": "xPv0REdUnZX-",
        "outputId": "f59408fd-726b-4ae3-9c5c-b2d87691a752"
      },
      "source": [
        "classes.shape"
      ],
      "execution_count": 8,
      "outputs": [
        {
          "output_type": "execute_result",
          "data": {
            "text/plain": [
              "torch.Size([4])"
            ]
          },
          "metadata": {},
          "execution_count": 8
        }
      ]
    },
    {
      "cell_type": "code",
      "metadata": {
        "id": "9HUnc-Te0LV6",
        "colab": {
          "base_uri": "https://localhost:8080/",
          "height": 67,
          "referenced_widgets": [
            "bb30c2f0af5f435b803eac8f94a69e88",
            "84a614c60b8e4c269a27ce4fb68308ed",
            "31a0edf6b79f415f8416b48ca187cea4",
            "edef2c9efdf34d28a643fbf03cc48a0e",
            "5f98d1b7dc8a42ac999a5e5c293c9ed3",
            "d13885215ec94c91bdacaa69467650a9",
            "5f358f100f9f479984cd57d6b98dbb92",
            "afc28e5cf9154871aa7edeec88e29f62",
            "8a3c3b783c2645bd8fc60afa90f9aa19",
            "ff6d6febcbd24e6d896223052763c4da",
            "fc4206db0f70496e8a70947b2e1eae7b"
          ]
        },
        "outputId": "b02a04c1-72f3-4465-fc3b-1d5f244e2669"
      },
      "source": [
        "import torchvision.models as models\n",
        "net=models.vgg19(pretrained = True)"
      ],
      "execution_count": 9,
      "outputs": [
        {
          "output_type": "stream",
          "name": "stderr",
          "text": [
            "Downloading: \"https://download.pytorch.org/models/vgg19-dcbb9e9d.pth\" to /root/.cache/torch/hub/checkpoints/vgg19-dcbb9e9d.pth\n"
          ]
        },
        {
          "output_type": "display_data",
          "data": {
            "application/vnd.jupyter.widget-view+json": {
              "model_id": "bb30c2f0af5f435b803eac8f94a69e88",
              "version_minor": 0,
              "version_major": 2
            },
            "text/plain": [
              "  0%|          | 0.00/548M [00:00<?, ?B/s]"
            ]
          },
          "metadata": {}
        }
      ]
    },
    {
      "cell_type": "code",
      "metadata": {
        "id": "T_hSHP0a0Mwj"
      },
      "source": [
        "net.classifier[-1].out_features = 4\n",
        "\n",
        "# freeze convolution weights\n",
        "for param in net.features.parameters():\n",
        "    param.requires_grad = False"
      ],
      "execution_count": 10,
      "outputs": []
    },
    {
      "cell_type": "code",
      "metadata": {
        "id": "HxdDhL7ONz8-"
      },
      "source": [
        "optimizer = optim.SGD(net.classifier.parameters(), lr=0.001, momentum=0.9)\n",
        "# loss function\n",
        "criterion = nn.CrossEntropyLoss()"
      ],
      "execution_count": 11,
      "outputs": []
    },
    {
      "cell_type": "code",
      "metadata": {
        "id": "3IYyZfKXN1iR",
        "colab": {
          "base_uri": "https://localhost:8080/"
        },
        "outputId": "7f4f385d-3a5a-473a-bd76-432053983218"
      },
      "source": [
        "net.cuda()"
      ],
      "execution_count": 14,
      "outputs": [
        {
          "output_type": "execute_result",
          "data": {
            "text/plain": [
              "VGG(\n",
              "  (features): Sequential(\n",
              "    (0): Conv2d(3, 64, kernel_size=(3, 3), stride=(1, 1), padding=(1, 1))\n",
              "    (1): ReLU(inplace=True)\n",
              "    (2): Conv2d(64, 64, kernel_size=(3, 3), stride=(1, 1), padding=(1, 1))\n",
              "    (3): ReLU(inplace=True)\n",
              "    (4): MaxPool2d(kernel_size=2, stride=2, padding=0, dilation=1, ceil_mode=False)\n",
              "    (5): Conv2d(64, 128, kernel_size=(3, 3), stride=(1, 1), padding=(1, 1))\n",
              "    (6): ReLU(inplace=True)\n",
              "    (7): Conv2d(128, 128, kernel_size=(3, 3), stride=(1, 1), padding=(1, 1))\n",
              "    (8): ReLU(inplace=True)\n",
              "    (9): MaxPool2d(kernel_size=2, stride=2, padding=0, dilation=1, ceil_mode=False)\n",
              "    (10): Conv2d(128, 256, kernel_size=(3, 3), stride=(1, 1), padding=(1, 1))\n",
              "    (11): ReLU(inplace=True)\n",
              "    (12): Conv2d(256, 256, kernel_size=(3, 3), stride=(1, 1), padding=(1, 1))\n",
              "    (13): ReLU(inplace=True)\n",
              "    (14): Conv2d(256, 256, kernel_size=(3, 3), stride=(1, 1), padding=(1, 1))\n",
              "    (15): ReLU(inplace=True)\n",
              "    (16): Conv2d(256, 256, kernel_size=(3, 3), stride=(1, 1), padding=(1, 1))\n",
              "    (17): ReLU(inplace=True)\n",
              "    (18): MaxPool2d(kernel_size=2, stride=2, padding=0, dilation=1, ceil_mode=False)\n",
              "    (19): Conv2d(256, 512, kernel_size=(3, 3), stride=(1, 1), padding=(1, 1))\n",
              "    (20): ReLU(inplace=True)\n",
              "    (21): Conv2d(512, 512, kernel_size=(3, 3), stride=(1, 1), padding=(1, 1))\n",
              "    (22): ReLU(inplace=True)\n",
              "    (23): Conv2d(512, 512, kernel_size=(3, 3), stride=(1, 1), padding=(1, 1))\n",
              "    (24): ReLU(inplace=True)\n",
              "    (25): Conv2d(512, 512, kernel_size=(3, 3), stride=(1, 1), padding=(1, 1))\n",
              "    (26): ReLU(inplace=True)\n",
              "    (27): MaxPool2d(kernel_size=2, stride=2, padding=0, dilation=1, ceil_mode=False)\n",
              "    (28): Conv2d(512, 512, kernel_size=(3, 3), stride=(1, 1), padding=(1, 1))\n",
              "    (29): ReLU(inplace=True)\n",
              "    (30): Conv2d(512, 512, kernel_size=(3, 3), stride=(1, 1), padding=(1, 1))\n",
              "    (31): ReLU(inplace=True)\n",
              "    (32): Conv2d(512, 512, kernel_size=(3, 3), stride=(1, 1), padding=(1, 1))\n",
              "    (33): ReLU(inplace=True)\n",
              "    (34): Conv2d(512, 512, kernel_size=(3, 3), stride=(1, 1), padding=(1, 1))\n",
              "    (35): ReLU(inplace=True)\n",
              "    (36): MaxPool2d(kernel_size=2, stride=2, padding=0, dilation=1, ceil_mode=False)\n",
              "  )\n",
              "  (avgpool): AdaptiveAvgPool2d(output_size=(7, 7))\n",
              "  (classifier): Sequential(\n",
              "    (0): Linear(in_features=25088, out_features=4096, bias=True)\n",
              "    (1): ReLU(inplace=True)\n",
              "    (2): Dropout(p=0.5, inplace=False)\n",
              "    (3): Linear(in_features=4096, out_features=4096, bias=True)\n",
              "    (4): ReLU(inplace=True)\n",
              "    (5): Dropout(p=0.5, inplace=False)\n",
              "    (6): Linear(in_features=4096, out_features=4, bias=True)\n",
              "  )\n",
              ")"
            ]
          },
          "metadata": {},
          "execution_count": 14
        }
      ]
    },
    {
      "cell_type": "code",
      "metadata": {
        "colab": {
          "base_uri": "https://localhost:8080/"
        },
        "id": "Hdf7LyRB0SZ8",
        "outputId": "f05b5bd5-792c-4acd-e0a3-3a5eca9da5ab"
      },
      "source": [
        "for epoch in range(29):\n",
        "  total = 0\n",
        "  print(\"Training...\")\n",
        "  running_loss = 0.0\n",
        "  correct = 0\n",
        "  for i, data in enumerate(train_loader, 0):\n",
        "      inputs, labels = data\n",
        "      inputs, labels = inputs.cuda(), labels.cuda()\n",
        "      imputs, lables = Variable(inputs.float().cuda()), Variable(labels.float().cuda())\n",
        "      if i%100 == 0 :\n",
        "          print(\"Training...\",i)  \n",
        "      optimizer.zero_grad()\n",
        "      outputs = net(inputs)\n",
        "      loss = criterion(outputs, labels)\n",
        "        \n",
        "      loss.backward()\n",
        "      optimizer.step()\n",
        "        \n",
        "      max_index = outputs.max(dim=1)[1]\n",
        "      correct += (max_index == labels).sum().item()\n",
        "      total += labels.size(0)\n",
        "\n",
        "\n",
        "      running_loss += loss.item()\n",
        "      if i % len(train_loader) == len(train_loader) - 1:\n",
        "        print('[epoc: %d, %5d] training loss: %.3f' %\n",
        "              (epoch + 1, i + 1, running_loss / len(train_loader)))\n",
        "  print(\"Training Accuracy = {}\".format(100 * correct / total))\n",
        "\n",
        "            \n",
        "print('finish') "
      ],
      "execution_count": 15,
      "outputs": [
        {
          "output_type": "stream",
          "name": "stdout",
          "text": [
            "Training...\n",
            "Training... 0\n",
            "Training... 100\n",
            "Training... 200\n",
            "Training... 300\n",
            "[epoc: 1,   325] training loss: 1.758\n",
            "Training Accuracy = 42.713955281418656\n",
            "Training...\n",
            "Training... 0\n",
            "Training... 100\n",
            "Training... 200\n",
            "Training... 300\n",
            "[epoc: 2,   325] training loss: 1.016\n",
            "Training Accuracy = 60.678488820354666\n",
            "Training...\n",
            "Training... 0\n",
            "Training... 100\n",
            "Training... 200\n",
            "Training... 300\n",
            "[epoc: 3,   325] training loss: 0.765\n",
            "Training Accuracy = 71.47262914417887\n",
            "Training...\n",
            "Training... 0\n",
            "Training... 100\n",
            "Training... 200\n",
            "Training... 300\n",
            "[epoc: 4,   325] training loss: 0.592\n",
            "Training Accuracy = 78.25751734772552\n",
            "Training...\n",
            "Training... 0\n",
            "Training... 100\n",
            "Training... 200\n",
            "Training... 300\n",
            "[epoc: 5,   325] training loss: 0.456\n",
            "Training Accuracy = 82.42097147262915\n",
            "Training...\n",
            "Training... 0\n",
            "Training... 100\n",
            "Training... 200\n",
            "Training... 300\n",
            "[epoc: 6,   325] training loss: 0.352\n",
            "Training Accuracy = 86.12181958365458\n",
            "Training...\n",
            "Training... 0\n",
            "Training... 100\n",
            "Training... 200\n",
            "Training... 300\n",
            "[epoc: 7,   325] training loss: 0.283\n",
            "Training Accuracy = 89.28296067848882\n",
            "Training...\n",
            "Training... 0\n",
            "Training... 100\n",
            "Training... 200\n",
            "Training... 300\n",
            "[epoc: 8,   325] training loss: 0.242\n",
            "Training Accuracy = 90.05397070161912\n",
            "Training...\n",
            "Training... 0\n",
            "Training... 100\n",
            "Training... 200\n",
            "Training... 300\n",
            "[epoc: 9,   325] training loss: 0.231\n",
            "Training Accuracy = 91.67309175019275\n",
            "Training...\n",
            "Training... 0\n",
            "Training... 100\n",
            "Training... 200\n",
            "Training... 300\n",
            "[epoc: 10,   325] training loss: 0.159\n",
            "Training Accuracy = 94.06322282189669\n",
            "Training...\n",
            "Training... 0\n",
            "Training... 100\n",
            "Training... 200\n",
            "Training... 300\n",
            "[epoc: 11,   325] training loss: 0.174\n",
            "Training Accuracy = 93.8319198149576\n",
            "Training...\n",
            "Training... 0\n",
            "Training... 100\n",
            "Training... 200\n",
            "Training... 300\n",
            "[epoc: 12,   325] training loss: 0.183\n",
            "Training Accuracy = 93.36931380107941\n",
            "Training...\n",
            "Training... 0\n",
            "Training... 100\n",
            "Training... 200\n",
            "Training... 300\n",
            "[epoc: 13,   325] training loss: 0.142\n",
            "Training Accuracy = 94.91133384734002\n",
            "Training...\n",
            "Training... 0\n",
            "Training... 100\n",
            "Training... 200\n",
            "Training... 300\n",
            "[epoc: 14,   325] training loss: 0.118\n",
            "Training Accuracy = 95.99074787972243\n",
            "Training...\n",
            "Training... 0\n",
            "Training... 100\n",
            "Training... 200\n",
            "Training... 300\n",
            "[epoc: 15,   325] training loss: 0.076\n",
            "Training Accuracy = 97.60986892829607\n",
            "Training...\n",
            "Training... 0\n",
            "Training... 100\n",
            "Training... 200\n",
            "Training... 300\n",
            "[epoc: 16,   325] training loss: 0.048\n",
            "Training Accuracy = 98.61218195836545\n",
            "Training...\n",
            "Training... 0\n",
            "Training... 100\n",
            "Training... 200\n",
            "Training... 300\n",
            "[epoc: 17,   325] training loss: 0.075\n",
            "Training Accuracy = 97.22436391673092\n",
            "Training...\n",
            "Training... 0\n",
            "Training... 100\n",
            "Training... 200\n",
            "Training... 300\n",
            "[epoc: 18,   325] training loss: 0.046\n",
            "Training Accuracy = 98.4579799537394\n",
            "Training...\n",
            "Training... 0\n",
            "Training... 100\n",
            "Training... 200\n",
            "Training... 300\n",
            "[epoc: 19,   325] training loss: 0.047\n",
            "Training Accuracy = 97.99537393986122\n",
            "Training...\n",
            "Training... 0\n",
            "Training... 100\n",
            "Training... 200\n",
            "Training... 300\n",
            "[epoc: 20,   325] training loss: 0.070\n",
            "Training Accuracy = 97.45566692367001\n",
            "Training...\n",
            "Training... 0\n",
            "Training... 100\n",
            "Training... 200\n",
            "Training... 300\n",
            "[epoc: 21,   325] training loss: 0.080\n",
            "Training Accuracy = 97.91827293754818\n",
            "Training...\n",
            "Training... 0\n",
            "Training... 100\n",
            "Training... 200\n",
            "Training... 300\n",
            "[epoc: 22,   325] training loss: 0.072\n",
            "Training Accuracy = 97.91827293754818\n",
            "Training...\n",
            "Training... 0\n",
            "Training... 100\n",
            "Training... 200\n",
            "Training... 300\n",
            "[epoc: 23,   325] training loss: 0.024\n",
            "Training Accuracy = 99.15188897455667\n",
            "Training...\n",
            "Training... 0\n",
            "Training... 100\n",
            "Training... 200\n",
            "Training... 300\n",
            "[epoc: 24,   325] training loss: 0.044\n",
            "Training Accuracy = 98.38087895142637\n",
            "Training...\n",
            "Training... 0\n",
            "Training... 100\n",
            "Training... 200\n",
            "Training... 300\n",
            "[epoc: 25,   325] training loss: 0.105\n",
            "Training Accuracy = 96.83885890516576\n",
            "Training...\n",
            "Training... 0\n",
            "Training... 100\n",
            "Training... 200\n",
            "Training... 300\n",
            "[epoc: 26,   325] training loss: 0.047\n",
            "Training Accuracy = 98.4579799537394\n",
            "Training...\n",
            "Training... 0\n",
            "Training... 100\n",
            "Training... 200\n",
            "Training... 300\n",
            "[epoc: 27,   325] training loss: 0.016\n",
            "Training Accuracy = 99.61449498843486\n",
            "Training...\n",
            "Training... 0\n",
            "Training... 100\n",
            "Training... 200\n",
            "Training... 300\n",
            "[epoc: 28,   325] training loss: 0.008\n",
            "Training Accuracy = 99.84579799537394\n",
            "Training...\n",
            "Training... 0\n",
            "Training... 100\n",
            "Training... 200\n",
            "Training... 300\n",
            "[epoc: 29,   325] training loss: 0.004\n",
            "Training Accuracy = 99.92289899768697\n",
            "finish\n"
          ]
        }
      ]
    },
    {
      "cell_type": "code",
      "metadata": {
        "id": "zbzMdf3actDx"
      },
      "source": [
        "PATH = '/content/drive/MyDrive/Colab Notebooks/ml2021/Resnet18.pth'\n",
        "torch.save(net.state_dict(), PATH)"
      ],
      "execution_count": 16,
      "outputs": []
    },
    {
      "cell_type": "code",
      "metadata": {
        "id": "4sBQxUT70VeR"
      },
      "source": [
        ""
      ],
      "execution_count": 16,
      "outputs": []
    },
    {
      "cell_type": "code",
      "metadata": {
        "id": "yQMzqZrv0UGM"
      },
      "source": [
        "trans = transforms.Compose([transforms.Resize((224,224)),\n",
        "                           transforms.ToTensor(),\n",
        "                           transforms.Normalize((0.5,0.5,0.5),(0.5,0.5,0.5))\n",
        "                           ])\n",
        "\n",
        "testset = torchvision.datasets.ImageFolder(root = \"/content/drive/MyDrive/Colab Notebooks/ml2021/data04/Test\",\n",
        "                                           transform = trans)"
      ],
      "execution_count": 17,
      "outputs": []
    },
    {
      "cell_type": "code",
      "metadata": {
        "id": "YDBgBDDGfcip"
      },
      "source": [
        ""
      ],
      "execution_count": 17,
      "outputs": []
    },
    {
      "cell_type": "code",
      "metadata": {
        "id": "XHMI0NBT-i0c"
      },
      "source": [
        "testloader = torch.utils.data.DataLoader(testset, batch_size = 4,\n",
        "                                         shuffle = False)"
      ],
      "execution_count": 18,
      "outputs": []
    },
    {
      "cell_type": "code",
      "metadata": {
        "id": "-Tu2ohEAcU2I",
        "colab": {
          "base_uri": "https://localhost:8080/"
        },
        "outputId": "0e0bf59c-7bd5-430e-d27d-3af25162ac1a"
      },
      "source": [
        "correct = 0\n",
        "total = 0\n",
        "with torch.no_grad():\n",
        "    for i, data in enumerate(testloader, 0):\n",
        "        images, labels = data\n",
        "        images, labels = images.float().cuda(), labels.float().cuda()\n",
        "\n",
        "        outputs = net(images)\n",
        "        max_index = outputs.max(dim=1)[1]\n",
        "        total += labels.size(0)\n",
        "        correct += (max_index == labels).sum().item()\n",
        "\n",
        "print('Accuracy of Test: %d %%' % (100 * correct / total))"
      ],
      "execution_count": 19,
      "outputs": [
        {
          "output_type": "stream",
          "name": "stdout",
          "text": [
            "Accuracy of Test: 78 %\n"
          ]
        }
      ]
    },
    {
      "cell_type": "code",
      "metadata": {
        "id": "8cNljt5hhgqn"
      },
      "source": [
        ""
      ],
      "execution_count": null,
      "outputs": []
    }
  ]
}